{
 "cells": [
  {
   "attachments": {},
   "cell_type": "markdown",
   "metadata": {},
   "source": [
    "# Load Libraries"
   ]
  },
  {
   "cell_type": "code",
   "execution_count": 2,
   "metadata": {},
   "outputs": [],
   "source": [
    "import pandas as pd\n",
    "import numpy as np\n",
    "pd.options.display.max_columns = None\n",
    "import warnings\n",
    "warnings.filterwarnings(\"ignore\")"
   ]
  },
  {
   "attachments": {},
   "cell_type": "markdown",
   "metadata": {},
   "source": [
    "## Tac information (last 3 years, commercial, closed cases, elegible architectures and elegible devices for ST)"
   ]
  },
  {
   "cell_type": "code",
   "execution_count": 3,
   "metadata": {},
   "outputs": [],
   "source": [
    "df = pd.read_csv(r'C:\\Users\\carloma5\\OneDrive - Cisco\\Desktop\\Work\\Tac_analysis_ST\\Processing\\data.csv', header = 0)"
   ]
  },
  {
   "cell_type": "code",
   "execution_count": 4,
   "metadata": {},
   "outputs": [],
   "source": [
    "mode_cols = ['ANALYSIS', 'PERCENTAGE', 'SEVERITY', 'COMPLEXITY', 'COMMUNICATION_CHANNEL', 'PROBLEM_CODE', 'RESOLUTION_CODE', 'REQUEST_TYPE', 'CONTRACT_STATUS', \n",
    "            'SERVICE', 'PRODUCT_ID', 'TECHNOLOGY_1', 'PRODUCT_FAMILY', 'ARCH_GROUPING', 'TIME']\n",
    "d_list = mode_cols[2:14]\n",
    "df_results = pd.DataFrame(df[d_list].mode(), columns = mode_cols)\n",
    "\n",
    "mode_cols2 = ['ANALYSIS', 'PROBLEM_CODE', 'PERCENTAGE PC', 'RESOLUTION_CODE', 'PERCENTAGE RC' , 'SERVICE', 'PERCENTAGE SC', 'PRODUCT_FAMILY', 'PERCENTAGE PF']\n",
    "d_list2 = [mode_cols2[i] for i in range(1,7,2)]\n",
    "df_results2 = pd.DataFrame(df[d_list2].mode(), columns = mode_cols2)"
   ]
  },
  {
   "cell_type": "markdown",
   "metadata": {},
   "source": [
    "## General analysis by architecture and top 3 PF."
   ]
  },
  {
   "cell_type": "markdown",
   "metadata": {},
   "source": [
    "\n",
    "### Returns modes and it's percentages for these columns: \n",
    "-\tSeverity \n",
    "-\tComplexity\n",
    "-\tCommunication_Channel\n",
    "-\tProblem_Code\n",
    "-\tResolution_Code\n",
    "-\tRequest_Type\n",
    "-\tContract_Status\n",
    "-\tService\n",
    "-\tProduct_Id\n",
    "-\tTechnology_1\n",
    "-\tProduct_Family\n",
    "-\tArchitecture\n"
   ]
  },
  {
   "cell_type": "code",
   "execution_count": 5,
   "metadata": {},
   "outputs": [],
   "source": [
    "def mode_analysis(df_results, column, value):\n",
    "   if value == 'General':\n",
    "      df_results['ANALYSIS'].fillna(value, inplace=True)\n",
    "      df_results['PERCENTAGE'].fillna(100, inplace=True)\n",
    "      df_results['TIME'].fillna(df['TIME_TO_CLOSE_DAYS'].mean(), inplace=True)\n",
    "\n",
    "   else: \n",
    "      df_d = df[df[column] == value]\n",
    "      df_results = df_results.append(df_d[d_list].mode())\n",
    "      df_results['ANALYSIS'].fillna(value, inplace=True)\n",
    "      df_results['PERCENTAGE'].fillna((len(df_d)*100)/len(df), inplace=True)\n",
    "      df_results['TIME'].fillna(df_d['TIME_TO_CLOSE_DAYS'].mean(), inplace=True)\n",
    "\n",
    "   return df_results"
   ]
  },
  {
   "cell_type": "markdown",
   "metadata": {},
   "source": [
    "## Top 3 deeper analysis with it's percentage representation for Architecture and PF for this columns:\n",
    "\n",
    "-\tProblem_Code\n",
    "-\tResolution_Code\n",
    "-\tService\n",
    "-\tProduct_Family"
   ]
  },
  {
   "cell_type": "code",
   "execution_count": 6,
   "metadata": {},
   "outputs": [],
   "source": [
    "def top3_analysis(df_results2, column, value):\n",
    "    df_d = df.loc[df[column] == value]\n",
    "    problem_code_counts = df_d['PROBLEM_CODE'].value_counts()\n",
    "    resolution_code_counts = df_d['RESOLUTION_CODE'].value_counts()\n",
    "    service_counts = df_d['SERVICE'].value_counts()\n",
    "    product_family_counts = df_d['PRODUCT_FAMILY'].value_counts()\n",
    "\n",
    "    if column == 'PRODUCT_FAMILY':\n",
    "        for i in range(3):\n",
    "            df_results2 = df_results2.append({\n",
    "            'ANALYSIS': value, \n",
    "            'PROBLEM_CODE': problem_code_counts.index[i],\n",
    "            'PERCENTAGE PC': (problem_code_counts[i] * 100) / len(df_d),\n",
    "            'RESOLUTION_CODE': resolution_code_counts.index[i],\n",
    "            'PERCENTAGE RC': (resolution_code_counts[i] * 100) / len(df_d),\n",
    "            'SERVICE': service_counts.index[i],\n",
    "            'PERCENTAGE SC': (service_counts[i] * 100) / len(df_d),\n",
    "            },\n",
    "            ignore_index = True\n",
    "            )\n",
    "    else:\n",
    "        for i in range(3):\n",
    "            df_results2 = df_results2.append({\n",
    "            'ANALYSIS': value, \n",
    "            'PROBLEM_CODE': problem_code_counts.index[i],\n",
    "            'PERCENTAGE PC': (problem_code_counts[i] * 100) / len(df_d),\n",
    "            'RESOLUTION_CODE': resolution_code_counts.index[i],\n",
    "            'PERCENTAGE RC': (resolution_code_counts[i] * 100) / len(df_d),\n",
    "            'SERVICE': service_counts.index[i],\n",
    "            'PERCENTAGE SC': (service_counts[i] * 100) / len(df_d),\n",
    "            'PRODUCT_FAMILY': product_family_counts.index[i],\n",
    "            'PERCENTAGE PF': (product_family_counts[i] * 100) / len(df_d)\n",
    "            },\n",
    "            ignore_index = True\n",
    "            )\n",
    "            \n",
    "    return df_results2"
   ]
  },
  {
   "cell_type": "markdown",
   "metadata": {},
   "source": [
    "# Results"
   ]
  },
  {
   "cell_type": "code",
   "execution_count": 8,
   "metadata": {},
   "outputs": [],
   "source": [
    "mode_analysis(df_results, 'General', 'General')\n",
    "l_values = df['PRODUCT_FAMILY'].value_counts().index.tolist()[:3]\n",
    "l_values.extend(df['ARCH_GROUPING'].value_counts().index.tolist()[:])\n",
    "#l_values.remove('Other')\n",
    "for i in l_values:\n",
    "    if l_values.index(i) < 3:\n",
    "        df_results = mode_analysis(df_results, 'PRODUCT_FAMILY', i)\n",
    "        df_results2 = top3_analysis(df_results2, 'PRODUCT_FAMILY', i)\n",
    "    else:\n",
    "        df_results = mode_analysis(df_results, 'ARCH_GROUPING', i)\n",
    "        df_results2 = top3_analysis(df_results2, 'ARCH_GROUPING', i)\n",
    "df_results2 = df_results2.iloc[1:]\n",
    "\n",
    "with pd.ExcelWriter(r'C:\\Users\\carloma5\\OneDrive - Cisco\\Desktop\\Work\\Tac_analysis_ST\\Results\\results.xlsx') as writer:\n",
    "\n",
    "    df_results.to_excel(writer, sheet_name = 'Mode Analysis', index = False)\n",
    "    df_results2.to_excel(writer, sheet_name = 'Top3 Analysis', index = False)"
   ]
  }
 ],
 "metadata": {
  "kernelspec": {
   "display_name": "Data",
   "language": "python",
   "name": "python3"
  },
  "language_info": {
   "codemirror_mode": {
    "name": "ipython",
    "version": 3
   },
   "file_extension": ".py",
   "mimetype": "text/x-python",
   "name": "python",
   "nbconvert_exporter": "python",
   "pygments_lexer": "ipython3",
   "version": "3.10.10"
  },
  "orig_nbformat": 4
 },
 "nbformat": 4,
 "nbformat_minor": 2
}
