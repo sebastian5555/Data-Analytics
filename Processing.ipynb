{
 "cells": [
  {
   "attachments": {},
   "cell_type": "markdown",
   "metadata": {},
   "source": [
    "# Load Libraries"
   ]
  },
  {
   "cell_type": "code",
   "execution_count": 3,
   "metadata": {},
   "outputs": [],
   "source": [
    "import snowflake.connector\n",
    "import os\n",
    "import numpy as np\n",
    "import pandas as pd"
   ]
  },
  {
   "attachments": {},
   "cell_type": "markdown",
   "metadata": {},
   "source": [
    "# Connection to snowflake"
   ]
  },
  {
   "cell_type": "code",
   "execution_count": 4,
   "metadata": {},
   "outputs": [
    {
     "name": "stdout",
     "output_type": "stream",
     "text": [
      "Initiating login request with your identity provider. A browser window should have opened for you to complete the login. If you can't see it, check existing browser windows, or your OS settings. Press CTRL+C to abort and try again...\n",
      "Going to open: https://sso-dbbfec7f.sso.duosecurity.com/saml2/sp/DIO232UHAG8BJAFM294O/sso?SAMLRequest=lVJdb%2BIwEPwrke85sROggAVUKSmUExyohDuJN8cx1Gpi57xOU%2F59HT6k3kMr3Zs%2FZnZmd3Z0%2F14W3pswILUaozAgyBOK61yq4xjt0pk%2FQB5YpnJWaCXG6CQA3U9GwMqionFtX9Sz%2BFsLsJ4rpIC2H2NUG0U1AwlUsVIAtZxu49WSRgGhDEAY6%2BTQlZKDdFov1lYU46ZpgqYTaHPEESEEkyF2qBbyA32SqL7XqIy2muviRnl3PX0hEWLSbSUcwilsrsQHqS4j%2BE4lu4CAPqXpxt%2Bstyny4lt3U62gLoXZCvMmudg9Ly8GwDngErgOavAFA%2BuHASjdHAr2Krguq9q6moE74YPIcaGP0k1qkYxR9Spzvefz4WM63c%2Bzquzy%2FjFMSLrLprvekrCio6NVM13%2ByZIleeTI%2B33LNWpzXQDUYqHaNK17IlHHJ30%2FukvDO0r6tBcF4aC3R17i0pSK2TPzZhlA%2B3mWHQTvHwJ3CfJag%2BC1kfZ0NtumEmGocLJYR51o9xTPBw8%2F49kqGnbXLR1dtoaebZjJ%2F81ihD9zr%2Bv3yyWySDa6kPzkzbQpmf06sDAIzy8y9w9nKBUlk0Wc50YAuOCKQjdTI5h1W25NLRCeXFT%2F3fPJBw%3D%3D&RelayState=64971 to authenticate...\n",
      "Connection successfull\n"
     ]
    }
   ],
   "source": [
    "def connec_to_sf(user):\n",
    "    try:\n",
    "        cnn = snowflake.connector.connect(\n",
    "            user=user,\n",
    "            authenticator='externalbrowser',\n",
    "            role='',\n",
    "            warehouse='',\n",
    "            database='',\n",
    "            schema='',\n",
    "            account=''\n",
    "        )\n",
    "        cs = cnn.cursor()\n",
    "        print('Connection successfull')\n",
    "        return cs,cnn\n",
    "    except: \n",
    "        print('Error connecting to Snowflake: Check your credentials and VPN connection')\n",
    "        raise\n",
    "    \n",
    "user1 = os.environ['']\n",
    "cs, cnn = connec_to_sf(user1)"
   ]
  },
  {
   "attachments": {},
   "cell_type": "markdown",
   "metadata": {},
   "source": [
    "# QUERY"
   ]
  },
  {
   "cell_type": "code",
   "execution_count": 5,
   "metadata": {},
   "outputs": [],
   "source": [
    "query = \"\"\"SELECT DISTINCT INCIDENT_NUMBER, \"PARTY ID\", \"PARTY NAME\", CURRENT_SEVERITY_INT, COMPLEXITY_DESCR, INCDT_CREATION_DATE, CLOSED_DATE, SR_TIME_TO_CLOSE_DAYS_CNT, OUTAGE_FLAG, BUG_CNT, ENTRY_CHANNEL_NAME, PROBLEM_CODE, RESOLUTION_CODE, REQUEST_TYPE_NAME, INCIDENT_CONTRACT_STATUS, SERVICE_PROGRAM, SERVICE_SUBGROUP_DESC, SERVICE_LEVLE_CODE, SERVICE_BRAND, SR_PRODUCT_ID, TAC_HW_PLATFORM_NAME, SR_TECHNOLOGY, TECH_NAME, SR_SUB_TECHNOLOGY, RU_BK_PRODUCT_FAMILY_ID, BE_INT, SUB_BE_INT, CUSTOMER_MARKET_SEGMENT_CD, ISO_COUNTRY_CD\n",
    "FROM CX_DB.CX_CA_BR.TAC_UNION TU\n",
    "LEFT JOIN CX_DB.CX_CA_BR.ACCOUNT_ID_LOOKUP AIL\n",
    "ON TU.\"PARTY ID\" = AIL.PARTY_ID\n",
    "RIGHT JOIN CX_DB.CX_CA_BR.SUCCESS_TRACK_PRICING STP\n",
    "ON TU.SR_PRODUCT_ID = STP.PRODUCT_SKU\n",
    "WHERE AIL.SALES_LEVEL_2 = 'US COMMERCIAL' AND TU.INCDT_CREATION_DATE > '2020-06-07' \"\"\"\n",
    " \n",
    "cs.execute(query)\n",
    "df = cs.fetch_pandas_all()\n",
    "df.to_csv(r'C:\\Users\\carloma5\\Extraction\\raw_data.csv', index = False)"
   ]
  },
  {
   "attachments": {},
   "cell_type": "markdown",
   "metadata": {},
   "source": [
    "# DATA PREPARATION"
   ]
  },
  {
   "cell_type": "markdown",
   "metadata": {},
   "source": [
    "## Data type coercion"
   ]
  },
  {
   "cell_type": "code",
   "execution_count": 6,
   "metadata": {},
   "outputs": [],
   "source": [
    "df['INCDT_CREATION_DATE'] = pd.to_datetime(df['INCDT_CREATION_DATE'])\n",
    "df['CLOSED_DATE'] = pd.to_datetime(df['CLOSED_DATE'])\n",
    "df['BUG_CNT'] = df['BUG_CNT'].fillna(0) "
   ]
  },
  {
   "attachments": {},
   "cell_type": "markdown",
   "metadata": {},
   "source": [
    "## Outliers removing"
   ]
  },
  {
   "cell_type": "code",
   "execution_count": 7,
   "metadata": {},
   "outputs": [],
   "source": [
    "def remove_ouliers(df, column):\n",
    "    data = df[column]\n",
    "    Q1, Q3 = np.quantile(data, [0.25, 0.75])\n",
    "    IQR = Q3-Q1\n",
    "    outliers = (data<Q1-1.5*IQR) | (data>Q3+1.5*IQR)\n",
    "    return df[~outliers].copy()\n",
    "\n",
    "df = remove_ouliers(df, 'SR_TIME_TO_CLOSE_DAYS_CNT')"
   ]
  },
  {
   "attachments": {},
   "cell_type": "markdown",
   "metadata": {},
   "source": [
    "## Service program grouping"
   ]
  },
  {
   "cell_type": "code",
   "execution_count": 8,
   "metadata": {},
   "outputs": [
    {
     "name": "stderr",
     "output_type": "stream",
     "text": [
      "C:\\Users\\carloma5\\AppData\\Local\\Temp\\ipykernel_13140\\3478307228.py:20: SettingWithCopyWarning: \n",
      "A value is trying to be set on a copy of a slice from a DataFrame\n",
      "\n",
      "See the caveats in the documentation: https://pandas.pydata.org/pandas-docs/stable/user_guide/indexing.html#returning-a-view-versus-a-copy\n",
      "  df['SERVICE_PROGRAM'][df['SERVICE_PROGRAM'].isin(sspt_list)]= 'SSPT'\n",
      "C:\\Users\\carloma5\\AppData\\Local\\Temp\\ipykernel_13140\\3478307228.py:22: SettingWithCopyWarning: \n",
      "A value is trying to be set on a copy of a slice from a DataFrame\n",
      "\n",
      "See the caveats in the documentation: https://pandas.pydata.org/pandas-docs/stable/user_guide/indexing.html#returning-a-view-versus-a-copy\n",
      "  df['SERVICE_PROGRAM'][df['SERVICE_PROGRAM'].isin(sntc_list)]= 'SNTC'\n",
      "C:\\Users\\carloma5\\AppData\\Local\\Temp\\ipykernel_13140\\3478307228.py:24: SettingWithCopyWarning: \n",
      "A value is trying to be set on a copy of a slice from a DataFrame\n",
      "\n",
      "See the caveats in the documentation: https://pandas.pydata.org/pandas-docs/stable/user_guide/indexing.html#returning-a-view-versus-a-copy\n",
      "  df['SERVICE_PROGRAM'][df['SERVICE_PROGRAM'].isin(cx_list)]= 'CX'\n",
      "C:\\Users\\carloma5\\AppData\\Local\\Temp\\ipykernel_13140\\3478307228.py:26: SettingWithCopyWarning: \n",
      "A value is trying to be set on a copy of a slice from a DataFrame\n",
      "\n",
      "See the caveats in the documentation: https://pandas.pydata.org/pandas-docs/stable/user_guide/indexing.html#returning-a-view-versus-a-copy\n",
      "  df['SERVICE_PROGRAM'][df['SERVICE_PROGRAM'].isin(swss_list)]= 'SWSS'\n",
      "C:\\Users\\carloma5\\AppData\\Local\\Temp\\ipykernel_13140\\3478307228.py:28: SettingWithCopyWarning: \n",
      "A value is trying to be set on a copy of a slice from a DataFrame\n",
      "\n",
      "See the caveats in the documentation: https://pandas.pydata.org/pandas-docs/stable/user_guide/indexing.html#returning-a-view-versus-a-copy\n",
      "  df['SERVICE_PROGRAM'][df['SERVICE_PROGRAM'].isin(partner_list)]= 'PARTNER_SUPPORT'\n",
      "C:\\Users\\carloma5\\AppData\\Local\\Temp\\ipykernel_13140\\3478307228.py:30: SettingWithCopyWarning: \n",
      "A value is trying to be set on a copy of a slice from a DataFrame\n",
      "\n",
      "See the caveats in the documentation: https://pandas.pydata.org/pandas-docs/stable/user_guide/indexing.html#returning-a-view-versus-a-copy\n",
      "  df['SERVICE_PROGRAM'][df['SERVICE_PROGRAM'].isin(transactional_list)]= 'TRANSACTIONAL'\n"
     ]
    }
   ],
   "source": [
    "sspt_list= ['3Y SSPT PLUS', '3YR ETSP', '5Y SSPT PLUS', 'SSPT EXPRESS', 'SSPT PLUS', 'SSPT PLUS DR', 'SSPT PLUS2', \n",
    "            'SSPT SW SUB', 'SP SSPT OPE', 'SP SSPT PLUS', 'SSPL BASIC', 'SSPL BASIC', 'TS SW PREF']\n",
    "\n",
    "sntc_list= ['SNTC', '3YR SMARTNET', '5YR SMARTNET', 'LL UCS DR', 'ONSITE UCS', 'UC SUP 3YR', 'UC SUP DR 3Y', \n",
    "            'ESHARDWARE', 'UCS DR', 'UCS HW ONLY', 'UCS HW+DR', 'SIA HW SPT', 'SIA SW B', 'COSE-TELPRES', 'SPBASE']\n",
    "\n",
    "cx_list= ['CX L1 3YR', 'CX L1 5YR', 'CX L1 DCN', 'CX L2 3YR', 'CX L2 5YR', 'CX LEVEL 1', 'CX LEVEL 2', 'CX LEVEL 2 DR', \n",
    "          'CXEA T1HWSPT']\n",
    "\n",
    "swss_list= ['PSS SWSS', 'PSS UCC SWSS', 'CISCO SWSS', 'SWSS 3Y DIST', 'SWSS CLOUD', 'SWSS HCS', 'ELA SWSS', \n",
    "            'PSS SWSS', 'PSS UCC SWSS', 'ELA SWSS', 'SSPLS SWSS B', 'SS PLUS SWSS', 'ENH ADD ON', 'SWAPPS', 'UC ISV']\n",
    "\n",
    "partner_list= ['PLSS', 'PRTNR SS ROW', 'PRTNR SS USC', 'PRTNR SUP', 'PRTNR TP VID', 'PSS UCS DR', 'PSS UCS SUPP', \n",
    "               'PSS UCS WP']\n",
    "\n",
    "transactional_list= ['SMB SA', 'CSE(SUP ESS)', 'ETSP', 'NC (AS-TS)', 'NC(AS-TS)11', 'NC(AS-TS)3', 'NC(AS-TS)30', \n",
    "                     'NC(AS-TS)31', 'NC(AS-TS)32', 'NC(AS-TS)33', 'NC(AS-TS)38', 'NC(AS-TS)39', 'NC(AS-TS)5', \n",
    "                     'NC(AS-TS)9', 'CIPS', 'EXT WARRANTY']\n",
    "\n",
    "df['SERVICE_PROGRAM'][df['SERVICE_PROGRAM'].isin(sspt_list)]= 'SSPT'\n",
    "\n",
    "df['SERVICE_PROGRAM'][df['SERVICE_PROGRAM'].isin(sntc_list)]= 'SNTC'\n",
    "\n",
    "df['SERVICE_PROGRAM'][df['SERVICE_PROGRAM'].isin(cx_list)]= 'CX'\n",
    "\n",
    "df['SERVICE_PROGRAM'][df['SERVICE_PROGRAM'].isin(swss_list)]= 'SWSS'\n",
    "\n",
    "df['SERVICE_PROGRAM'][df['SERVICE_PROGRAM'].isin(partner_list)]= 'PARTNER_SUPPORT'\n",
    "\n",
    "df['SERVICE_PROGRAM'][df['SERVICE_PROGRAM'].isin(transactional_list)]= 'TRANSACTIONAL'"
   ]
  },
  {
   "attachments": {},
   "cell_type": "markdown",
   "metadata": {},
   "source": [
    "## Outage flag grouping"
   ]
  },
  {
   "cell_type": "code",
   "execution_count": 9,
   "metadata": {},
   "outputs": [
    {
     "name": "stderr",
     "output_type": "stream",
     "text": [
      "C:\\Users\\carloma5\\AppData\\Local\\Temp\\ipykernel_13140\\2024651149.py:4: SettingWithCopyWarning: \n",
      "A value is trying to be set on a copy of a slice from a DataFrame\n",
      "\n",
      "See the caveats in the documentation: https://pandas.pydata.org/pandas-docs/stable/user_guide/indexing.html#returning-a-view-versus-a-copy\n",
      "  df['OUTAGE_FLAG'][df['OUTAGE_FLAG'].isin(yes_list)]= '1'\n",
      "C:\\Users\\carloma5\\AppData\\Local\\Temp\\ipykernel_13140\\2024651149.py:6: SettingWithCopyWarning: \n",
      "A value is trying to be set on a copy of a slice from a DataFrame\n",
      "\n",
      "See the caveats in the documentation: https://pandas.pydata.org/pandas-docs/stable/user_guide/indexing.html#returning-a-view-versus-a-copy\n",
      "  df['OUTAGE_FLAG'][df['OUTAGE_FLAG'].isin(no_list)]= '0'\n"
     ]
    }
   ],
   "source": [
    "yes_list= ['Yes', 'TRUE', 'true'] \n",
    "no_list= ['No', 'XYZ', 'FALSE', 'false']\n",
    "\n",
    "df['OUTAGE_FLAG'][df['OUTAGE_FLAG'].isin(yes_list)]= '1'\n",
    "\n",
    "df['OUTAGE_FLAG'][df['OUTAGE_FLAG'].isin(no_list)]= '0'"
   ]
  },
  {
   "attachments": {},
   "cell_type": "markdown",
   "metadata": {},
   "source": [
    "## Resolution code grouping"
   ]
  },
  {
   "cell_type": "code",
   "execution_count": 10,
   "metadata": {},
   "outputs": [
    {
     "name": "stderr",
     "output_type": "stream",
     "text": [
      "C:\\Users\\carloma5\\AppData\\Local\\Temp\\ipykernel_13140\\1520275138.py:18: SettingWithCopyWarning: \n",
      "A value is trying to be set on a copy of a slice from a DataFrame\n",
      "\n",
      "See the caveats in the documentation: https://pandas.pydata.org/pandas-docs/stable/user_guide/indexing.html#returning-a-view-versus-a-copy\n",
      "  df['RESOLUTION_CODE'][df['RESOLUTION_CODE'].isin(cust_edu_list)]= 'CUST EDU'\n",
      "C:\\Users\\carloma5\\AppData\\Local\\Temp\\ipykernel_13140\\1520275138.py:20: SettingWithCopyWarning: \n",
      "A value is trying to be set on a copy of a slice from a DataFrame\n",
      "\n",
      "See the caveats in the documentation: https://pandas.pydata.org/pandas-docs/stable/user_guide/indexing.html#returning-a-view-versus-a-copy\n",
      "  df['RESOLUTION_CODE'][df['RESOLUTION_CODE'].isin(doc_provided_list)]= 'DOC PROVIDED'\n",
      "C:\\Users\\carloma5\\AppData\\Local\\Temp\\ipykernel_13140\\1520275138.py:22: SettingWithCopyWarning: \n",
      "A value is trying to be set on a copy of a slice from a DataFrame\n",
      "\n",
      "See the caveats in the documentation: https://pandas.pydata.org/pandas-docs/stable/user_guide/indexing.html#returning-a-view-versus-a-copy\n",
      "  df['RESOLUTION_CODE'][df['RESOLUTION_CODE'].isin(rma_list)]= 'RMA'\n",
      "C:\\Users\\carloma5\\AppData\\Local\\Temp\\ipykernel_13140\\1520275138.py:24: SettingWithCopyWarning: \n",
      "A value is trying to be set on a copy of a slice from a DataFrame\n",
      "\n",
      "See the caveats in the documentation: https://pandas.pydata.org/pandas-docs/stable/user_guide/indexing.html#returning-a-view-versus-a-copy\n",
      "  df['RESOLUTION_CODE'][df['RESOLUTION_CODE'].isin(sw_config_list)]= 'SW CONFIG'\n",
      "C:\\Users\\carloma5\\AppData\\Local\\Temp\\ipykernel_13140\\1520275138.py:26: SettingWithCopyWarning: \n",
      "A value is trying to be set on a copy of a slice from a DataFrame\n",
      "\n",
      "See the caveats in the documentation: https://pandas.pydata.org/pandas-docs/stable/user_guide/indexing.html#returning-a-view-versus-a-copy\n",
      "  df['RESOLUTION_CODE'][df['RESOLUTION_CODE'].isin(third_party_list)]= '3RD PARTY'\n",
      "C:\\Users\\carloma5\\AppData\\Local\\Temp\\ipykernel_13140\\1520275138.py:28: SettingWithCopyWarning: \n",
      "A value is trying to be set on a copy of a slice from a DataFrame\n",
      "\n",
      "See the caveats in the documentation: https://pandas.pydata.org/pandas-docs/stable/user_guide/indexing.html#returning-a-view-versus-a-copy\n",
      "  df['RESOLUTION_CODE'][df['RESOLUTION_CODE'].isin(others_list)]= 'OTHER'\n"
     ]
    }
   ],
   "source": [
    "cust_edu_list= ['CUSTOMER ACTIVATION', 'CUSTOMER_EDUCATION']\n",
    "\n",
    "doc_provided_list= ['CONTENT DELIVERED', 'DOCUMENTATION PROVIDED']\n",
    "\n",
    "rma_list= ['HW_REPLACE_SVO']\n",
    "\n",
    "sw_config_list= ['SW_CONFIG', 'SW_UPGRD_EXSTNG_DEFECT', 'SW_UPGRD_NEW_DEFECT', 'SW_UPGRD_NEW_FEATURE']\n",
    "\n",
    "third_party_list= ['REDIRECT_3RD_PARTY']\n",
    "\n",
    "others_list= ['APPLICATION ERROR - MAC', 'APPLICATION ERROR - WPC', 'CLOSED_NOT_ENTITLED', 'CONTENT NOT AVAILABLE', \n",
    "              'CONTENT REQUEST', 'DUPLICATE', 'HW_UPGRD_ EXSTNG_DEFECT', 'HW_UPGRD_ NEW_DEFECT', 'HW_UPGRD_NEW_FEATURE',\n",
    "              'LICENSE_ISSUE', 'MOBILE - IOS', 'MOBILE - ANDRIOD', 'NETWORK_REDESIGN', 'NEW FEATURE REQUEST',\n",
    "              'NEW USER ACCESS', 'NO_RESPONSE', 'NOT AVAILABLE', 'OPENED_IN_ERROR', 'PARTNER_SOLVED',\n",
    "              'REDIRECT_PARTNER_RESELL', 'REPORTS', 'RESET PASSWORD', 'RESOLV_BY_CUST', 'SANDBOX UPLOAD',\n",
    "              'UNREPRODUCIBLE', 'UNRESOLVED', 'VIEWER - ONLINE']\n",
    "\n",
    "df['RESOLUTION_CODE'][df['RESOLUTION_CODE'].isin(cust_edu_list)]= 'CUST EDU'\n",
    "\n",
    "df['RESOLUTION_CODE'][df['RESOLUTION_CODE'].isin(doc_provided_list)]= 'DOC PROVIDED'\n",
    "\n",
    "df['RESOLUTION_CODE'][df['RESOLUTION_CODE'].isin(rma_list)]= 'RMA'\n",
    "\n",
    "df['RESOLUTION_CODE'][df['RESOLUTION_CODE'].isin(sw_config_list)]= 'SW CONFIG'\n",
    "\n",
    "df['RESOLUTION_CODE'][df['RESOLUTION_CODE'].isin(third_party_list)]= '3RD PARTY'\n",
    "\n",
    "df['RESOLUTION_CODE'][df['RESOLUTION_CODE'].isin(others_list)]= 'OTHER'"
   ]
  },
  {
   "attachments": {},
   "cell_type": "markdown",
   "metadata": {},
   "source": [
    "## Renaming of the columns"
   ]
  },
  {
   "cell_type": "code",
   "execution_count": 11,
   "metadata": {},
   "outputs": [],
   "source": [
    "new_headers= {\n",
    "    'PARTY ID': 'PARTY_ID',\n",
    "    'PARTY NAME': 'PARTY_NUMBER',\n",
    "    'CURRENT_SEVERITY_INT': 'SEVERITY',\n",
    "    'COMPLEXITY_DESCR': 'COMPLEXITY',\n",
    "    'INCDT_CREATION_DATE': 'CREATION_DATE',\n",
    "    'CLOSED_DATE': 'CLOSED_DATE',\n",
    "    'SR_TIME_TO_CLOSE_DAYS_CNT': 'TIME_TO_CLOSE_DAYS',\n",
    "    'OUTAGE_FLAG': 'OUTAGE',\n",
    "    'BUG_CNT': 'BUG_COUNT',\n",
    "    'ENTRY_CHANNEL_NAME': 'COMMUNICATION_CHANNEL',\n",
    "    'PROBLEM_CODE': 'PROBLEM_CODE',\n",
    "    'RESOLUTION_CODE': 'RESOLUTION_CODE',\n",
    "    'REQUEST_TYPE_NAME': 'REQUEST_TYPE',\n",
    "    'INCIDENT_CONTRACT_STATUS': 'CONTRACT_STATUS',\n",
    "    'SERVICE_PROGRAM': 'SERVICE',\n",
    "    'SERVICE_SUBGROUP_DESC': 'SERVICE_SUBGROUP',\n",
    "    'SERVICE_LEVLE_CODE': 'SERVICE_LEVEL',\n",
    "    'SERVICE_BRAND': 'SERVICE_BRAND',\n",
    "    'SR_PRODUCT_ID': 'PRODUCT_ID',\n",
    "    'TAC_HW_PLATFORM_NAME': 'DEVICE_NAME',\n",
    "    'SR_TECHNOLOGY': 'TECHNOLOGY_1',\n",
    "    'TECH_NAME': 'TECHNOLOGY_2',\n",
    "    'SR_SUB_TECHNOLOGY': 'SUB_TECHNOLOGY',\n",
    "    'RU_BK_PRODUCT_FAMILY_ID': 'PRODUCT_FAMILY',\n",
    "    'BE_INT': 'ARCHITECTURE',\n",
    "    'SUB_BE_INT': 'SUB_ARCHITECTURE',\n",
    "    'CUSTOMER_MARKET_SEGMENT_CD': 'MARKET_SEGMENT',\n",
    "    'ISO_COUNTRY_CD': 'COUNTRY'\n",
    "}\n",
    "\n",
    "df= df.rename(columns= new_headers) "
   ]
  },
  {
   "cell_type": "markdown",
   "metadata": {},
   "source": [
    "## Architectures grouping"
   ]
  },
  {
   "cell_type": "code",
   "execution_count": 12,
   "metadata": {},
   "outputs": [
    {
     "name": "stderr",
     "output_type": "stream",
     "text": [
      "C:\\Users\\carloma5\\AppData\\Local\\Temp\\ipykernel_13140\\586529724.py:13: SettingWithCopyWarning: \n",
      "A value is trying to be set on a copy of a slice from a DataFrame\n",
      "\n",
      "See the caveats in the documentation: https://pandas.pydata.org/pandas-docs/stable/user_guide/indexing.html#returning-a-view-versus-a-copy\n",
      "  df['ARCH_GROUPING'][df['ARCHITECTURE'].isin(Campus)]= 'Campus'\n"
     ]
    }
   ],
   "source": [
    "df['ARCH_GROUPING']= np.nan\n",
    "\n",
    "Campus = ['Enterprise Routing', 'Enterprise Switching', 'Wireless', 'Service Provider Routing']\n",
    "\n",
    "Datacenter_Switching = ['Cloud Networking']\n",
    "\n",
    "Datacenter_Computing = ['Cloud and Compute']\n",
    "\n",
    "IOT = ['IOT']\n",
    "\n",
    "Security = ['Security']\n",
    "\n",
    "df['ARCH_GROUPING'][df['ARCHITECTURE'].isin(Campus)]= 'Campus'\n",
    "\n",
    "df['ARCH_GROUPING'][df['ARCHITECTURE'].isin(Datacenter_Switching)]= 'Datacenter Switching'\n",
    "\n",
    "df['ARCH_GROUPING'][df['ARCHITECTURE'].isin(Datacenter_Computing)]= 'Datacenter Computing'\n",
    "\n",
    "df['ARCH_GROUPING'][df['ARCHITECTURE'].isin(IOT)]= 'IOT'\n",
    "\n",
    "df['ARCH_GROUPING'][df['ARCHITECTURE'].isin(Security)]= 'Security'"
   ]
  },
  {
   "cell_type": "code",
   "execution_count": 13,
   "metadata": {},
   "outputs": [],
   "source": [
    "df.to_csv(r'C:\\Users\\carloma5\\Processing\\data.csv', index = False)"
   ]
  }
 ],
 "metadata": {
  "kernelspec": {
   "display_name": "Data",
   "language": "python",
   "name": "python3"
  },
  "language_info": {
   "codemirror_mode": {
    "name": "ipython",
    "version": 3
   },
   "file_extension": ".py",
   "mimetype": "text/x-python",
   "name": "python",
   "nbconvert_exporter": "python",
   "pygments_lexer": "ipython3",
   "version": "3.10.10"
  },
  "orig_nbformat": 4
 },
 "nbformat": 4,
 "nbformat_minor": 2
}
